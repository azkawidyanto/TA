{
 "cells": [
  {
   "cell_type": "code",
   "execution_count": 5,
   "metadata": {
    "run_control": {
     "marked": true
    }
   },
   "outputs": [],
   "source": [
    "import math\n",
    "import cProfile\n",
    "import pstats\n",
    "import time\n",
    "import io\n",
    "import pandas as pd\n",
    "import numpy as np\n",
    "from pstats import SortKey\n",
    "import psutil\n",
    "# import resource\n",
    "def support(df):\n",
    "    for i in range(0, len(df.ncall)):\n",
    "        if df.ncall[i] == 1:\n",
    "            df.Support_neg[i] = -1\n",
    "            df.Support_plus[i] = 0\n",
    "        else:\n",
    "            df.Support_neg[i] = -(math.ceil(df.ncall[i] / len(df.ncall)))\n",
    "            df.Support_plus[i] = abs(len(df.Function) - abs(df.Support_neg[i]))\n",
    "\n",
    "\n",
    "def total_transac(df):\n",
    "    return sum(df.ncall)\n",
    "\n",
    "\n",
    "def neg_transac(df):\n",
    "    return (len(df.Function))\n",
    "\n",
    "\n",
    "def pos_transac(df):\n",
    "    return(total_transac(df) - neg_transac(df))\n",
    "\n",
    "\n",
    "def H(a, b):\n",
    "    if (a == 0) or (b == 0):\n",
    "        return 0\n",
    "    else:\n",
    "        x = a / (a + b)\n",
    "        y = b / (a + b)\n",
    "        return (-(x * math.log(x, 2)) - (y * math.log(y, 2)))\n",
    "\n",
    "def information_gain(df):\n",
    "    a = total_transac(df)\n",
    "    for i in range(0, len(df.ncall)):\n",
    "        b = df.Support_plus[i] + df.Support_neg[i]\n",
    "        c = (a-b) / a\n",
    "        x = H(abs(pos_transac(df)), abs(neg_transac(df)))\n",
    "        y = b * H(df.Support_plus[i], abs(df.Support_neg[i])) / a\n",
    "        z = c * H(abs(pos_transac(df)) -\n",
    "                  df.Support_plus[i], abs(neg_transac(df)) - df.Support_neg[i])\n",
    "        df.IG[i] = abs(x-y-z)\n",
    "\n",
    "\n",
    "def disc_Significance(df):\n",
    "    for i in range(0, len(df.ncall)):\n",
    "        df.DS[i] = df.IG[i]\n",
    "\n",
    "\n",
    "def topK_signature(df, k):\n",
    "    df.sort_values(by=[\"DS\"], inplace=True, ascending=False)"
   ]
  },
  {
   "cell_type": "code",
   "execution_count": 6,
   "metadata": {},
   "outputs": [
    {
     "name": "stdout",
     "output_type": "stream",
     "text": [
      "Masukkan Nama File: output_timsort.csv\n",
      "Masukkan K yang diinginkan:3\n",
      "         Function        DS\n",
      "0           merge  0.180066\n",
      "1   binary_search  0.127335\n",
      "2  insertion_sort  0.081415\n",
      "3          decode  0.053502\n",
      "4        tim_sort  0.053502\n",
      "5            main  0.053502\n",
      "6        <module>  0.053502\n",
      "Waktu yang dibutuhkan: 0.013989925384521484\n",
      "Memori yang digunakan: svmem(total=8491270144, available=2948280320, percent=65.3, used=5542989824, free=2948280320)\n"
     ]
    }
   ],
   "source": [
    "def main_func():\n",
    "    file = input('Masukkan Nama File: ')\n",
    "    k = int(input(\"Masukkan K yang diinginkan:\"))\n",
    "    start = time.time()\n",
    "    data = pd.read_csv(file)\n",
    "    df = pd.DataFrame(\n",
    "        data, columns=[\"ncall\", \"Function\", \"Support_plus\", \"Support_neg\", \"IG\", \"DS\"])\n",
    "    pd.set_option('mode.chained_assignment', None)\n",
    "    support(df)\n",
    "    information_gain(df)\n",
    "    disc_Significance(df)\n",
    "    topK_signature(df, k)\n",
    "\n",
    "    df = pd.DataFrame(df, columns=[\"Function\", \"DS\"])\n",
    "    duration = time.time() - start\n",
    "    print(df)\n",
    "    print(\"Waktu yang dibutuhkan:\", duration)\n",
    "    print(\"Memori yang digunakan:\", psutil.virtual_memory())\n",
    "    # print(\"Memori yang digunakan:\",resource.getrusage(resource.RUSAGE_SELF).ru_maxrss)\n",
    "\n",
    "\n",
    "main_func()"
   ]
  },
  {
   "cell_type": "code",
   "execution_count": 19,
   "metadata": {},
   "outputs": [],
   "source": [
    "%reload_ext line_profiler "
   ]
  },
  {
   "cell_type": "code",
   "execution_count": 20,
   "metadata": {},
   "outputs": [
    {
     "ename": "SyntaxError",
     "evalue": "invalid syntax (<ipython-input-20-10ec08eab307>, line 1)",
     "output_type": "error",
     "traceback": [
      "\u001b[1;36m  File \u001b[1;32m\"<ipython-input-20-10ec08eab307>\"\u001b[1;36m, line \u001b[1;32m1\u001b[0m\n\u001b[1;33m    line_profiler -f main_func\u001b[0m\n\u001b[1;37m                             ^\u001b[0m\n\u001b[1;31mSyntaxError\u001b[0m\u001b[1;31m:\u001b[0m invalid syntax\n"
     ]
    }
   ],
   "source": [
    "line_profiler -f main_func"
   ]
  },
  {
   "cell_type": "code",
   "execution_count": null,
   "metadata": {},
   "outputs": [],
   "source": []
  }
 ],
 "metadata": {
  "kernelspec": {
   "display_name": "Python 3",
   "language": "python",
   "name": "python3"
  },
  "language_info": {
   "codemirror_mode": {
    "name": "ipython",
    "version": 3
   },
   "file_extension": ".py",
   "mimetype": "text/x-python",
   "name": "python",
   "nbconvert_exporter": "python",
   "pygments_lexer": "ipython3",
   "version": "3.7.9"
  }
 },
 "nbformat": 4,
 "nbformat_minor": 2
}
